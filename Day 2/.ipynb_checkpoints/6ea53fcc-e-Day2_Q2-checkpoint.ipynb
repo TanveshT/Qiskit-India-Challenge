{
 "cells": [
  {
   "cell_type": "markdown",
   "metadata": {
    "colab_type": "text",
    "id": "TtU5ATimv2d3"
   },
   "source": [
    "<img src=\"https://s3-ap-southeast-1.amazonaws.com/he-public-data/wordmark_black65ee464.png\" width=\"700\">"
   ]
  },
  {
   "cell_type": "markdown",
   "metadata": {
    "colab_type": "text",
    "id": "c96E2lyIv2d4"
   },
   "source": [
    "# Day 2 - Question 2"
   ]
  },
  {
   "cell_type": "markdown",
   "metadata": {
    "colab_type": "text",
    "id": "tl5La9lXv2d5"
   },
   "source": [
    "**Welcome to Day 2 Question 2 of the Quantum Challenge India!**\n",
    "\n",
    "**Today's Reading Assignment:**\n",
    "\n",
    "- [Qiskit Textbook Chapter 1.3 - Representing Qubit States](https://qiskit.org/textbook/ch-states/representing-qubit-states.html)\n",
    "- [Qiskit Textbook Chapter 1.4 - Single Qubit Gates](https://qiskit.org/textbook/ch-states/single-qubit-gates.html)\n",
    "- [Qiskit Textbook Chapter 1.5 - The Case for Quantum](https://qiskit.org/textbook/ch-states/case-for-quantum.html)\n",
    "\n",
    "**Additional Resources:**\n",
    "\n",
    "- [Qiskit Documentation - Getting Started With Qiskit](https://qiskit.org/documentation/getting_started.html) \n",
    "- [Qiskit Youtube - One Minute Qiskit](https://www.youtube.com/playlist?list=PLOFEBzvs-VvpOCmJ9BonUhf7NYB4d1p0e)\n",
    "- [Qiskit Youtube - Coding With Qiskit (Ep-1, 2, 3, 4)](https://www.youtube.com/playlist?list=PLOFEBzvs-Vvp2xg9-POLJhQwtVktlYGbY)\n",
    "\n",
    "In [Chapter 1.3](https://qiskit.org/textbook/ch-states/representing-qubit-states.html), we've learnt how to initialize a qubit. The following section [Chapter 1.4](https://qiskit.org/textbook/ch-states/single-qubit-gates.html) covers single qubit gates. These resources will help you solve the problem below. \n",
    "\n",
    "Similar to the $R_{\\phi}$ parameterised gate which is a parametric rotation of $\\phi$ about the Z-axis, we have parameterised rotations along the Y-axis and X-axis as well. You can apply them by using the methods [`QuantumCircuit.ry()`](https://qiskit.org/documentation/stubs/qiskit.circuit.QuantumCircuit.ry.html#qiskit.circuit.QuantumCircuit.ry) and [`QuantumCircuit.rx()`](https://qiskit.org/documentation/stubs/qiskit.circuit.QuantumCircuit.rx.html#qiskit.circuit.QuantumCircuit.rx) respectively. \n",
    "\n",
    "## Question: Initialize the state vector in state $|1\\rangle$ and perform an anti-clockwise rotation along Y axis by an angle of $\\frac{\\pi}{3}$ "
   ]
  },
  {
   "cell_type": "code",
   "execution_count": null,
   "metadata": {
    "colab": {},
    "colab_type": "code",
    "id": "VxsL4BEXv2d6"
   },
   "outputs": [],
   "source": [
    "%matplotlib inline\n",
    "\n",
    "# defining a magic function for creating the submission file.\n",
    "from IPython.core.magic import register_cell_magic\n",
    "@register_cell_magic\n",
    "def write_and_run(line, cell):\n",
    "    argz = line.split()\n",
    "    file = argz[-1]\n",
    "    mode = 'w'\n",
    "    with open(file, mode) as f:\n",
    "        f.write(cell)\n",
    "    get_ipython().run_cell(cell)\n",
    "\n",
    "# Importing Qiskit visualization libraries \n",
    "from qiskit.tools.jupyter import *\n",
    "from qiskit.visualization import *"
   ]
  },
  {
   "cell_type": "markdown",
   "metadata": {
    "colab_type": "text",
    "id": "wVJS2X6Qv2d_"
   },
   "source": [
    "Now that we have imported what we require lets build our circuit in the `build_state()` function where we have already initialized a `QuantumCircuit` for one qubit. Your task is to add necessary gates as specified in the question and return the quantum circuit. In the case that you require classes that haven't already been imported include them in the space given below for importing libraries.\n",
    "\n",
    "**Note:** Do not change the name of the function `build_state()`. "
   ]
  },
  {
   "cell_type": "code",
   "execution_count": null,
   "metadata": {
    "colab": {},
    "colab_type": "code",
    "id": "t6cAHMLev2eA"
   },
   "outputs": [],
   "source": [
    "%%write_and_run answer_day2_question2.py\n",
    "\n",
    "### WRITE YOUR CODE BETWEEN THESE LINES - START\n",
    "    \n",
    "# import libraries that are used in the function below.\n",
    "from qiskit import QuantumCircuit\n",
    "import numpy as np\n",
    "    \n",
    "### WRITE YOUR CODE BETWEEN THESE LINES - END\n",
    "\n",
    "def build_state():\n",
    "    \n",
    "    # create a quantum circuit on one qubit\n",
    "    circuit = QuantumCircuit(1)\n",
    "    \n",
    "    ### WRITE YOUR CODE BETWEEN THESE LINES - START\n",
    "    \n",
    "    # apply necessary gates\n",
    "    \n",
    "    ### WRITE YOUR CODE BETWEEN THESE LINES - END\n",
    "    return circuit"
   ]
  },
  {
   "cell_type": "markdown",
   "metadata": {
    "colab_type": "text",
    "id": "QdmsFY6gv2eD"
   },
   "source": [
    "**Circuit Diagram**"
   ]
  },
  {
   "cell_type": "code",
   "execution_count": null,
   "metadata": {
    "colab": {},
    "colab_type": "code",
    "id": "j28x6Pg6v2eE"
   },
   "outputs": [],
   "source": [
    "my_circuit1 = build_state()\n",
    "my_circuit1.draw()"
   ]
  },
  {
   "cell_type": "markdown",
   "metadata": {
    "colab_type": "text",
    "id": "CXHOr2EPv2eI"
   },
   "source": [
    "**Bloch Spheres**"
   ]
  },
  {
   "cell_type": "markdown",
   "metadata": {
    "colab_type": "text",
    "id": "gxfdb55Wv2eI"
   },
   "source": [
    "Let's run the circuit on `statevector_simulator` and use the resultant statevector to plot it on bloch sphere. To know more on `plot_bloch_multivector`, check the [documentation](https://qiskit.org/documentation/stubs/qiskit.visualization.plot_bloch_vector.html)"
   ]
  },
  {
   "cell_type": "code",
   "execution_count": null,
   "metadata": {
    "colab": {},
    "colab_type": "code",
    "id": "R-jGpFchv2eJ"
   },
   "outputs": [],
   "source": [
    "# importing the simulator\n",
    "from qiskit import execute, Aer\n",
    "\n",
    "backend = Aer.get_backend(\"statevector_simulator\")\n",
    "job = execute(my_circuit1,backend=backend)\n",
    "statevector1 = job.result().get_statevector()\n",
    "plot_bloch_multivector(statevector1)"
   ]
  },
  {
   "cell_type": "markdown",
   "metadata": {
    "colab_type": "text",
    "id": "M4ybsSTlv2eN"
   },
   "source": [
    "### Submitting the Answer\n",
    "\n",
    "Once the solution is complete make sure you: \n",
    "\n",
    "* Step 1: **Run the notebook** to generate your submission file named **answer_day2_question2.py** which is a **python file (.py)**. \n",
    "* Step 2: **Upload answer_day2_question2.py** on the HackerEarth platform to get the solution graded and submitted. "
   ]
  }
 ],
 "metadata": {
  "colab": {
   "name": "Day2 Q2.ipynb",
   "provenance": []
  },
  "kernelspec": {
   "display_name": "Python 3",
   "language": "python",
   "name": "python3"
  },
  "language_info": {
   "codemirror_mode": {
    "name": "ipython",
    "version": 3
   },
   "file_extension": ".py",
   "mimetype": "text/x-python",
   "name": "python",
   "nbconvert_exporter": "python",
   "pygments_lexer": "ipython3",
   "version": "3.8.5"
  }
 },
 "nbformat": 4,
 "nbformat_minor": 1
}
